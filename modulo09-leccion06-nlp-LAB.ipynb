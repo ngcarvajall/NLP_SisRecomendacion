{
 "cells": [
  {
   "cell_type": "markdown",
   "metadata": {},
   "source": [
    "<div style=\"text-align: center;\">\n",
    "  <img src=\"https://github.com/Hack-io-Data/Imagenes/blob/main/01-LogosHackio/logo_naranja@4x.png?raw=true\" alt=\"esquema\" />\n",
    "</div>\n",
    "\n",
    "\n",
    "# Laboratorio NLP + Sist. Recomendación\n",
    "\n",
    "\n",
    "En este laboratorio, tabrajaras con datos de reseñas de productos para construir un sistema de recomendación que utilice procesamiento de lenguaje natural (NLP) y *machine learning*. El objetivo principal es que analices el contenido textual de las reseñas, clasifiques las opiniones en categorías (positiva, negativa o neutra) y aproveches esta información para personalizar las recomendaciones. El sistema priorizará los productos con mejores reseñas para usuarios específicos y permitirá evaluar si el análisis de sentimientos mejora la calidad de las recomendaciones. Tareas propuestas:\n",
    "\n",
    "\n",
    "**Caso 1: Crear un sistema de recomendación**: Debes generar un sistema de recomendación para priorizar productos con las reseñas para cada usuario. Los pasos que deberás seguir son:    \n",
    "\n",
    "- Estructurar el conjunto de datos\n",
    "\n",
    "- Sistema basado en contenido\n",
    "\n",
    "\n",
    "**Caso 2: Clasificar reseñas en positivas, negativas o neutras** Deberás implementar un modelo para analizar las reseñas textuales y clasificarlas en tres categorías:\n",
    "\n",
    "- Positivas: Si el sentimiento de la reseña es favorable.\n",
    "\n",
    "- Negativas: Si el sentimiento de la reseña es desfavorable.\n",
    "\n",
    "- Neutras: Si la reseña no tiene un sentimiento claro.\n",
    "\t\n",
    "- Pasos :\n",
    "\t- Preprocesamiento de texto: Limpiar las reseñas eliminando caracteres especiales, palabras vacías (stopwords) y realizar lematización.\n",
    "\t\n",
    "\t- Identificar las reseñas positivas, negativas y neutrales. \n",
    "\n",
    "\n",
    "Los datos los tendréis en el [siguiente enlace](https://drive.google.com/drive/u/0/folders/1vK5zESy9KElRhm_utg_lHHXuUArrwWgu) con la descipción de cada una de las columnas.  "
   ]
  },
  {
   "cell_type": "code",
   "execution_count": 356,
   "metadata": {},
   "outputs": [
    {
     "name": "stdout",
     "output_type": "stream",
     "text": [
      "The autoreload extension is already loaded. To reload it, use:\n",
      "  %reload_ext autoreload\n"
     ]
    }
   ],
   "source": [
    "%load_ext autoreload\n",
    "%autoreload 2\n",
    "\n",
    "\n",
    "import numpy as numpy\n",
    "import pandas as pd\n",
    "import seaborn as sns\n",
    "from sklearn.feature_extraction.text import CountVectorizer\n",
    "from sklearn.metrics.pairwise import cosine_similarity\n",
    "from scipy.spatial.distance import pdist, squareform\n",
    "\n",
    "import seaborn as sns\n",
    "import matplotlib.pyplot as plt\n",
    "\n",
    "from src import soporte_sistemas_recomendacion as sr\n",
    "\n",
    "import re\n",
    "import spacy\n",
    "import contractions"
   ]
  },
  {
   "cell_type": "code",
   "execution_count": 357,
   "metadata": {},
   "outputs": [],
   "source": [
    "df = pd.read_csv('datos/datos.csv', index_col=0).reset_index(drop=True)\n"
   ]
  },
  {
   "cell_type": "code",
   "execution_count": 358,
   "metadata": {},
   "outputs": [
    {
     "name": "stdout",
     "output_type": "stream",
     "text": [
      "<class 'pandas.core.frame.DataFrame'>\n",
      "RangeIndex: 10000 entries, 0 to 9999\n",
      "Data columns (total 9 columns):\n",
      " #   Column              Non-Null Count  Dtype  \n",
      "---  ------              --------------  -----  \n",
      " 0   reviewId            10000 non-null  object \n",
      " 1   reviewDate          10000 non-null  object \n",
      " 2   mainDepartment      10000 non-null  object \n",
      " 3   subDepartment       10000 non-null  object \n",
      " 4   productName         10000 non-null  object \n",
      " 5   reviewTitle         9995 non-null   object \n",
      " 6   reviewStar          10000 non-null  float64\n",
      " 7   reviewText          9999 non-null   object \n",
      " 8   inconsistentStatus  10000 non-null  int64  \n",
      "dtypes: float64(1), int64(1), object(7)\n",
      "memory usage: 703.3+ KB\n"
     ]
    }
   ],
   "source": [
    "df.info()"
   ]
  },
  {
   "cell_type": "code",
   "execution_count": 359,
   "metadata": {},
   "outputs": [
    {
     "data": {
      "text/html": [
       "<div>\n",
       "<style scoped>\n",
       "    .dataframe tbody tr th:only-of-type {\n",
       "        vertical-align: middle;\n",
       "    }\n",
       "\n",
       "    .dataframe tbody tr th {\n",
       "        vertical-align: top;\n",
       "    }\n",
       "\n",
       "    .dataframe thead th {\n",
       "        text-align: right;\n",
       "    }\n",
       "</style>\n",
       "<table border=\"1\" class=\"dataframe\">\n",
       "  <thead>\n",
       "    <tr style=\"text-align: right;\">\n",
       "      <th></th>\n",
       "      <th>reviewId</th>\n",
       "      <th>reviewDate</th>\n",
       "      <th>mainDepartment</th>\n",
       "      <th>subDepartment</th>\n",
       "      <th>productName</th>\n",
       "      <th>reviewTitle</th>\n",
       "      <th>reviewStar</th>\n",
       "      <th>reviewText</th>\n",
       "      <th>inconsistentStatus</th>\n",
       "    </tr>\n",
       "  </thead>\n",
       "  <tbody>\n",
       "    <tr>\n",
       "      <th>0</th>\n",
       "      <td>RXDM4W1ZL7L4L</td>\n",
       "      <td>Reviewed in the United States on June 22, 2021</td>\n",
       "      <td>Sports and Outdoors</td>\n",
       "      <td>Outdoor Recreation</td>\n",
       "      <td>Doctor Developed Copper Wrist Brace / Carpal T...</td>\n",
       "      <td>One size does not fit all.</td>\n",
       "      <td>3.0</td>\n",
       "      <td>Nice lightweight brace but unfortunately was t...</td>\n",
       "      <td>1</td>\n",
       "    </tr>\n",
       "    <tr>\n",
       "      <th>1</th>\n",
       "      <td>R2GINAKQJOSWEL</td>\n",
       "      <td>Reviewed in the United States on August 27, 2021</td>\n",
       "      <td>Computers</td>\n",
       "      <td>Men's Clothing</td>\n",
       "      <td>Fruit of the Loom Men's Coolzone Boxer Briefs</td>\n",
       "      <td>They were ok but thats it</td>\n",
       "      <td>4.0</td>\n",
       "      <td>Boxers were ok. The color did start to fade pr...</td>\n",
       "      <td>0</td>\n",
       "    </tr>\n",
       "    <tr>\n",
       "      <th>2</th>\n",
       "      <td>RD5R7T2JNP104</td>\n",
       "      <td>Reviewed in the United States on May 21, 2021</td>\n",
       "      <td>Computers</td>\n",
       "      <td>Networking Products</td>\n",
       "      <td>TP-Link AC750 WiFi Extender (RE220), Covers Up...</td>\n",
       "      <td>Good if you need a little extra.</td>\n",
       "      <td>4.0</td>\n",
       "      <td>Very easy to install. Worked right away but it...</td>\n",
       "      <td>0</td>\n",
       "    </tr>\n",
       "    <tr>\n",
       "      <th>3</th>\n",
       "      <td>R3UEHJJ17E730C</td>\n",
       "      <td>Reviewed in the United States on March 7, 2021</td>\n",
       "      <td>Home and Kitchen</td>\n",
       "      <td>Bath</td>\n",
       "      <td>Gorilla Grip Luxury Chenille Bathroom Rug Mat,...</td>\n",
       "      <td>Color wrong!!!</td>\n",
       "      <td>1.0</td>\n",
       "      <td>The color is completely different than hunter ...</td>\n",
       "      <td>1</td>\n",
       "    </tr>\n",
       "    <tr>\n",
       "      <th>4</th>\n",
       "      <td>R2257OUFMQ8P5C</td>\n",
       "      <td>Reviewed in the United States on October 17, 2020</td>\n",
       "      <td>Beauty and Personal Care</td>\n",
       "      <td>Hair Care</td>\n",
       "      <td>WOW Apple Cider Vinegar Shampoo and Hair Condi...</td>\n",
       "      <td>I have 4A hair</td>\n",
       "      <td>2.0</td>\n",
       "      <td>From reading the reviews, I was hoping that th...</td>\n",
       "      <td>0</td>\n",
       "    </tr>\n",
       "  </tbody>\n",
       "</table>\n",
       "</div>"
      ],
      "text/plain": [
       "         reviewId                                         reviewDate  \\\n",
       "0   RXDM4W1ZL7L4L     Reviewed in the United States on June 22, 2021   \n",
       "1  R2GINAKQJOSWEL   Reviewed in the United States on August 27, 2021   \n",
       "2   RD5R7T2JNP104      Reviewed in the United States on May 21, 2021   \n",
       "3  R3UEHJJ17E730C     Reviewed in the United States on March 7, 2021   \n",
       "4  R2257OUFMQ8P5C  Reviewed in the United States on October 17, 2020   \n",
       "\n",
       "             mainDepartment        subDepartment  \\\n",
       "0       Sports and Outdoors   Outdoor Recreation   \n",
       "1                 Computers       Men's Clothing   \n",
       "2                 Computers  Networking Products   \n",
       "3          Home and Kitchen                 Bath   \n",
       "4  Beauty and Personal Care            Hair Care   \n",
       "\n",
       "                                         productName  \\\n",
       "0  Doctor Developed Copper Wrist Brace / Carpal T...   \n",
       "1      Fruit of the Loom Men's Coolzone Boxer Briefs   \n",
       "2  TP-Link AC750 WiFi Extender (RE220), Covers Up...   \n",
       "3  Gorilla Grip Luxury Chenille Bathroom Rug Mat,...   \n",
       "4  WOW Apple Cider Vinegar Shampoo and Hair Condi...   \n",
       "\n",
       "                        reviewTitle  reviewStar  \\\n",
       "0        One size does not fit all.         3.0   \n",
       "1         They were ok but thats it         4.0   \n",
       "2  Good if you need a little extra.         4.0   \n",
       "3                    Color wrong!!!         1.0   \n",
       "4                    I have 4A hair         2.0   \n",
       "\n",
       "                                          reviewText  inconsistentStatus  \n",
       "0  Nice lightweight brace but unfortunately was t...                   1  \n",
       "1  Boxers were ok. The color did start to fade pr...                   0  \n",
       "2  Very easy to install. Worked right away but it...                   0  \n",
       "3  The color is completely different than hunter ...                   1  \n",
       "4  From reading the reviews, I was hoping that th...                   0  "
      ]
     },
     "execution_count": 359,
     "metadata": {},
     "output_type": "execute_result"
    }
   ],
   "source": [
    "df.head()"
   ]
  },
  {
   "cell_type": "code",
   "execution_count": 360,
   "metadata": {},
   "outputs": [
    {
     "data": {
      "text/plain": [
       "reviewId              10000\n",
       "reviewDate             1487\n",
       "mainDepartment            5\n",
       "subDepartment            27\n",
       "productName              99\n",
       "reviewTitle            8361\n",
       "reviewStar                5\n",
       "reviewText             9928\n",
       "inconsistentStatus        2\n",
       "dtype: int64"
      ]
     },
     "execution_count": 360,
     "metadata": {},
     "output_type": "execute_result"
    }
   ],
   "source": [
    "df.nunique()"
   ]
  },
  {
   "cell_type": "code",
   "execution_count": 361,
   "metadata": {},
   "outputs": [
    {
     "data": {
      "text/plain": [
       "mainDepartment\n",
       "Computers                   3071\n",
       "Beauty and Personal Care    2104\n",
       "Electronics                 1747\n",
       "Home and Kitchen            1662\n",
       "Sports and Outdoors         1416\n",
       "Name: count, dtype: int64"
      ]
     },
     "execution_count": 361,
     "metadata": {},
     "output_type": "execute_result"
    }
   ],
   "source": [
    "df['mainDepartment'].value_counts()"
   ]
  },
  {
   "cell_type": "code",
   "execution_count": 362,
   "metadata": {},
   "outputs": [
    {
     "data": {
      "text/plain": [
       "subDepartment\n",
       "Sports & Fitness                      710\n",
       "Outdoor Recreation                    706\n",
       "Makeup                                387\n",
       "Hair Care                             372\n",
       "Kitchen and Dining                    363\n",
       "Men's Accessories                     360\n",
       "Video games and accessories           360\n",
       "Laptop Accessories                    357\n",
       "GPS and Navigation                    353\n",
       "Heating, Cooling & Air Quality        351\n",
       "Headphones                            351\n",
       "Foot,Hand & Nail Care                 349\n",
       "Camera and Accessories                342\n",
       "Men's Clothing                        341\n",
       "CellPhones and Accessories            341\n",
       "Computer Accessories & Peripherals    340\n",
       "Shave & Hair Removal                  339\n",
       "Men's Watches                         339\n",
       "Computers & Tablets                   336\n",
       "Men's Shoes                           335\n",
       "Networking Products                   334\n",
       "Skin Care                             334\n",
       "Furniture                             332\n",
       "Data Storage                          329\n",
       "Bath                                  327\n",
       "Fragrance                             323\n",
       "Beds                                  289\n",
       "Name: count, dtype: int64"
      ]
     },
     "execution_count": 362,
     "metadata": {},
     "output_type": "execute_result"
    }
   ],
   "source": [
    "df['subDepartment'].value_counts()"
   ]
  },
  {
   "cell_type": "code",
   "execution_count": 363,
   "metadata": {},
   "outputs": [
    {
     "data": {
      "text/plain": [
       "mainDepartment            subDepartment                     \n",
       "Beauty and Personal Care  Foot,Hand & Nail Care                 349\n",
       "                          Fragrance                             323\n",
       "                          Hair Care                             372\n",
       "                          Makeup                                387\n",
       "                          Shave & Hair Removal                  339\n",
       "                          Skin Care                             334\n",
       "Computers                 Computer Accessories & Peripherals    340\n",
       "                          Computers & Tablets                   336\n",
       "                          Data Storage                          329\n",
       "                          Laptop Accessories                    357\n",
       "                          Men's Accessories                     360\n",
       "                          Men's Clothing                        341\n",
       "                          Men's Shoes                           335\n",
       "                          Men's Watches                         339\n",
       "                          Networking Products                   334\n",
       "Electronics               Camera and Accessories                342\n",
       "                          CellPhones and Accessories            341\n",
       "                          GPS and Navigation                    353\n",
       "                          Headphones                            351\n",
       "                          Video games and accessories           360\n",
       "Home and Kitchen          Bath                                  327\n",
       "                          Beds                                  289\n",
       "                          Furniture                             332\n",
       "                          Heating, Cooling & Air Quality        351\n",
       "                          Kitchen and Dining                    363\n",
       "Sports and Outdoors       Outdoor Recreation                    706\n",
       "                          Sports & Fitness                      710\n",
       "Name: subDepartment, dtype: int64"
      ]
     },
     "execution_count": 363,
     "metadata": {},
     "output_type": "execute_result"
    }
   ],
   "source": [
    "df.groupby(['mainDepartment', 'subDepartment'])['subDepartment'].count()"
   ]
  },
  {
   "cell_type": "code",
   "execution_count": 364,
   "metadata": {},
   "outputs": [
    {
     "data": {
      "text/html": [
       "<div>\n",
       "<style scoped>\n",
       "    .dataframe tbody tr th:only-of-type {\n",
       "        vertical-align: middle;\n",
       "    }\n",
       "\n",
       "    .dataframe tbody tr th {\n",
       "        vertical-align: top;\n",
       "    }\n",
       "\n",
       "    .dataframe thead th {\n",
       "        text-align: right;\n",
       "    }\n",
       "</style>\n",
       "<table border=\"1\" class=\"dataframe\">\n",
       "  <thead>\n",
       "    <tr style=\"text-align: right;\">\n",
       "      <th></th>\n",
       "      <th>reviewId</th>\n",
       "      <th>reviewDate</th>\n",
       "      <th>mainDepartment</th>\n",
       "      <th>subDepartment</th>\n",
       "      <th>productName</th>\n",
       "      <th>reviewTitle</th>\n",
       "      <th>reviewStar</th>\n",
       "      <th>reviewText</th>\n",
       "      <th>inconsistentStatus</th>\n",
       "    </tr>\n",
       "  </thead>\n",
       "  <tbody>\n",
       "    <tr>\n",
       "      <th>4333</th>\n",
       "      <td>R364W01TMAE95T</td>\n",
       "      <td>Reviewed in the United States on March 25, 2021</td>\n",
       "      <td>Electronics</td>\n",
       "      <td>Video games and accessories</td>\n",
       "      <td>BENGOO G9000 Stereo Gaming Headset for PS4 PC ...</td>\n",
       "      <td>NaN</td>\n",
       "      <td>2.0</td>\n",
       "      <td>It was clear to hear but speaking for me, no o...</td>\n",
       "      <td>0</td>\n",
       "    </tr>\n",
       "    <tr>\n",
       "      <th>6267</th>\n",
       "      <td>R1V4YJT6IDSQ5V</td>\n",
       "      <td>Reviewed in the United States on December 7, 2020</td>\n",
       "      <td>Beauty and Personal Care</td>\n",
       "      <td>Hair Care</td>\n",
       "      <td>Castor Oil USDA Organic Cold-Pressed (16oz) 10...</td>\n",
       "      <td>NaN</td>\n",
       "      <td>4.0</td>\n",
       "      <td>NaN</td>\n",
       "      <td>1</td>\n",
       "    </tr>\n",
       "    <tr>\n",
       "      <th>6488</th>\n",
       "      <td>RD6S1BD3L11QT</td>\n",
       "      <td>Reviewed in the United States on July 6, 2021</td>\n",
       "      <td>Computers</td>\n",
       "      <td>Networking Products</td>\n",
       "      <td>TP-Link AC750 WiFi Extender (RE220), Covers Up...</td>\n",
       "      <td>NaN</td>\n",
       "      <td>1.0</td>\n",
       "      <td>It didn't work as well as we had anticipated.</td>\n",
       "      <td>0</td>\n",
       "    </tr>\n",
       "    <tr>\n",
       "      <th>7010</th>\n",
       "      <td>RLCUK197Z6DGX</td>\n",
       "      <td>Reviewed in the United States on August 4, 2021</td>\n",
       "      <td>Computers</td>\n",
       "      <td>Men's Shoes</td>\n",
       "      <td>Crocs Men's and Women's Classic Clog</td>\n",
       "      <td>NaN</td>\n",
       "      <td>1.0</td>\n",
       "      <td>This order is not in my possession, yet.  Addi...</td>\n",
       "      <td>1</td>\n",
       "    </tr>\n",
       "    <tr>\n",
       "      <th>9026</th>\n",
       "      <td>R25QX3HWD0F5SK</td>\n",
       "      <td>Reviewed in the United States on June 25, 2019</td>\n",
       "      <td>Beauty and Personal Care</td>\n",
       "      <td>Fragrance</td>\n",
       "      <td>RawChemistry Pheromone Cologne, for Him [Attra...</td>\n",
       "      <td>NaN</td>\n",
       "      <td>3.0</td>\n",
       "      <td>FOR EVERYDAY USE</td>\n",
       "      <td>0</td>\n",
       "    </tr>\n",
       "  </tbody>\n",
       "</table>\n",
       "</div>"
      ],
      "text/plain": [
       "            reviewId                                         reviewDate  \\\n",
       "4333  R364W01TMAE95T    Reviewed in the United States on March 25, 2021   \n",
       "6267  R1V4YJT6IDSQ5V  Reviewed in the United States on December 7, 2020   \n",
       "6488   RD6S1BD3L11QT      Reviewed in the United States on July 6, 2021   \n",
       "7010   RLCUK197Z6DGX    Reviewed in the United States on August 4, 2021   \n",
       "9026  R25QX3HWD0F5SK     Reviewed in the United States on June 25, 2019   \n",
       "\n",
       "                mainDepartment                subDepartment  \\\n",
       "4333               Electronics  Video games and accessories   \n",
       "6267  Beauty and Personal Care                    Hair Care   \n",
       "6488                 Computers          Networking Products   \n",
       "7010                 Computers                  Men's Shoes   \n",
       "9026  Beauty and Personal Care                    Fragrance   \n",
       "\n",
       "                                            productName reviewTitle  \\\n",
       "4333  BENGOO G9000 Stereo Gaming Headset for PS4 PC ...         NaN   \n",
       "6267  Castor Oil USDA Organic Cold-Pressed (16oz) 10...         NaN   \n",
       "6488  TP-Link AC750 WiFi Extender (RE220), Covers Up...         NaN   \n",
       "7010               Crocs Men's and Women's Classic Clog         NaN   \n",
       "9026  RawChemistry Pheromone Cologne, for Him [Attra...         NaN   \n",
       "\n",
       "      reviewStar                                         reviewText  \\\n",
       "4333         2.0  It was clear to hear but speaking for me, no o...   \n",
       "6267         4.0                                                NaN   \n",
       "6488         1.0      It didn't work as well as we had anticipated.   \n",
       "7010         1.0  This order is not in my possession, yet.  Addi...   \n",
       "9026         3.0                                   FOR EVERYDAY USE   \n",
       "\n",
       "      inconsistentStatus  \n",
       "4333                   0  \n",
       "6267                   1  \n",
       "6488                   0  \n",
       "7010                   1  \n",
       "9026                   0  "
      ]
     },
     "execution_count": 364,
     "metadata": {},
     "output_type": "execute_result"
    }
   ],
   "source": [
    "df[df.isna().any(axis=1)]"
   ]
  },
  {
   "cell_type": "code",
   "execution_count": 365,
   "metadata": {},
   "outputs": [],
   "source": [
    "df.dropna(inplace=True)"
   ]
  },
  {
   "cell_type": "code",
   "execution_count": 366,
   "metadata": {},
   "outputs": [
    {
     "data": {
      "text/plain": [
       "(9995, 9)"
      ]
     },
     "execution_count": 366,
     "metadata": {},
     "output_type": "execute_result"
    }
   ],
   "source": [
    "df.shape"
   ]
  },
  {
   "cell_type": "code",
   "execution_count": 367,
   "metadata": {},
   "outputs": [
    {
     "data": {
      "text/plain": [
       "np.int64(0)"
      ]
     },
     "execution_count": 367,
     "metadata": {},
     "output_type": "execute_result"
    }
   ],
   "source": [
    "df.duplicated().sum()"
   ]
  },
  {
   "cell_type": "code",
   "execution_count": 368,
   "metadata": {},
   "outputs": [
    {
     "data": {
      "text/plain": [
       "reviewId              9995\n",
       "reviewDate            1487\n",
       "mainDepartment           5\n",
       "subDepartment           27\n",
       "productName             99\n",
       "reviewTitle           8361\n",
       "reviewStar               5\n",
       "reviewText            9924\n",
       "inconsistentStatus       2\n",
       "dtype: int64"
      ]
     },
     "execution_count": 368,
     "metadata": {},
     "output_type": "execute_result"
    }
   ],
   "source": [
    "df.nunique()"
   ]
  },
  {
   "cell_type": "code",
   "execution_count": 369,
   "metadata": {},
   "outputs": [
    {
     "data": {
      "text/html": [
       "<div>\n",
       "<style scoped>\n",
       "    .dataframe tbody tr th:only-of-type {\n",
       "        vertical-align: middle;\n",
       "    }\n",
       "\n",
       "    .dataframe tbody tr th {\n",
       "        vertical-align: top;\n",
       "    }\n",
       "\n",
       "    .dataframe thead th {\n",
       "        text-align: right;\n",
       "    }\n",
       "</style>\n",
       "<table border=\"1\" class=\"dataframe\">\n",
       "  <thead>\n",
       "    <tr style=\"text-align: right;\">\n",
       "      <th></th>\n",
       "      <th>reviewStar</th>\n",
       "      <th>inconsistentStatus</th>\n",
       "    </tr>\n",
       "  </thead>\n",
       "  <tbody>\n",
       "    <tr>\n",
       "      <th>count</th>\n",
       "      <td>9995.000000</td>\n",
       "      <td>9995.000000</td>\n",
       "    </tr>\n",
       "    <tr>\n",
       "      <th>mean</th>\n",
       "      <td>3.003902</td>\n",
       "      <td>0.447824</td>\n",
       "    </tr>\n",
       "    <tr>\n",
       "      <th>std</th>\n",
       "      <td>1.410418</td>\n",
       "      <td>0.497295</td>\n",
       "    </tr>\n",
       "    <tr>\n",
       "      <th>min</th>\n",
       "      <td>1.000000</td>\n",
       "      <td>0.000000</td>\n",
       "    </tr>\n",
       "    <tr>\n",
       "      <th>25%</th>\n",
       "      <td>2.000000</td>\n",
       "      <td>0.000000</td>\n",
       "    </tr>\n",
       "    <tr>\n",
       "      <th>50%</th>\n",
       "      <td>3.000000</td>\n",
       "      <td>0.000000</td>\n",
       "    </tr>\n",
       "    <tr>\n",
       "      <th>75%</th>\n",
       "      <td>4.000000</td>\n",
       "      <td>1.000000</td>\n",
       "    </tr>\n",
       "    <tr>\n",
       "      <th>max</th>\n",
       "      <td>5.000000</td>\n",
       "      <td>1.000000</td>\n",
       "    </tr>\n",
       "  </tbody>\n",
       "</table>\n",
       "</div>"
      ],
      "text/plain": [
       "        reviewStar  inconsistentStatus\n",
       "count  9995.000000         9995.000000\n",
       "mean      3.003902            0.447824\n",
       "std       1.410418            0.497295\n",
       "min       1.000000            0.000000\n",
       "25%       2.000000            0.000000\n",
       "50%       3.000000            0.000000\n",
       "75%       4.000000            1.000000\n",
       "max       5.000000            1.000000"
      ]
     },
     "execution_count": 369,
     "metadata": {},
     "output_type": "execute_result"
    }
   ],
   "source": [
    "df.describe()"
   ]
  },
  {
   "cell_type": "code",
   "execution_count": 370,
   "metadata": {},
   "outputs": [],
   "source": [
    "# stop_words = set(stopwords.words('english'))\n",
    "# nlp = spacy.load('en_core_web_sm')"
   ]
  },
  {
   "cell_type": "code",
   "execution_count": 371,
   "metadata": {},
   "outputs": [
    {
     "data": {
      "text/html": [
       "<div>\n",
       "<style scoped>\n",
       "    .dataframe tbody tr th:only-of-type {\n",
       "        vertical-align: middle;\n",
       "    }\n",
       "\n",
       "    .dataframe tbody tr th {\n",
       "        vertical-align: top;\n",
       "    }\n",
       "\n",
       "    .dataframe thead th {\n",
       "        text-align: right;\n",
       "    }\n",
       "</style>\n",
       "<table border=\"1\" class=\"dataframe\">\n",
       "  <thead>\n",
       "    <tr style=\"text-align: right;\">\n",
       "      <th></th>\n",
       "      <th>reviewId</th>\n",
       "      <th>reviewDate</th>\n",
       "      <th>mainDepartment</th>\n",
       "      <th>subDepartment</th>\n",
       "      <th>productName</th>\n",
       "      <th>reviewTitle</th>\n",
       "      <th>reviewStar</th>\n",
       "      <th>reviewText</th>\n",
       "      <th>inconsistentStatus</th>\n",
       "      <th>texto_limpio</th>\n",
       "    </tr>\n",
       "  </thead>\n",
       "  <tbody>\n",
       "    <tr>\n",
       "      <th>0</th>\n",
       "      <td>RXDM4W1ZL7L4L</td>\n",
       "      <td>Reviewed in the United States on June 22, 2021</td>\n",
       "      <td>Sports and Outdoors</td>\n",
       "      <td>Outdoor Recreation</td>\n",
       "      <td>Doctor Developed Copper Wrist Brace / Carpal T...</td>\n",
       "      <td>One size does not fit all.</td>\n",
       "      <td>3.0</td>\n",
       "      <td>Nice lightweight brace but unfortunately was t...</td>\n",
       "      <td>1</td>\n",
       "      <td>doctor developed copper wrist brace carpal tun...</td>\n",
       "    </tr>\n",
       "    <tr>\n",
       "      <th>1</th>\n",
       "      <td>R2GINAKQJOSWEL</td>\n",
       "      <td>Reviewed in the United States on August 27, 2021</td>\n",
       "      <td>Computers</td>\n",
       "      <td>Men's Clothing</td>\n",
       "      <td>Fruit of the Loom Men's Coolzone Boxer Briefs</td>\n",
       "      <td>They were ok but thats it</td>\n",
       "      <td>4.0</td>\n",
       "      <td>Boxers were ok. The color did start to fade pr...</td>\n",
       "      <td>0</td>\n",
       "      <td>fruit of the loom mens coolzone boxer briefs</td>\n",
       "    </tr>\n",
       "    <tr>\n",
       "      <th>2</th>\n",
       "      <td>RD5R7T2JNP104</td>\n",
       "      <td>Reviewed in the United States on May 21, 2021</td>\n",
       "      <td>Computers</td>\n",
       "      <td>Networking Products</td>\n",
       "      <td>TP-Link AC750 WiFi Extender (RE220), Covers Up...</td>\n",
       "      <td>Good if you need a little extra.</td>\n",
       "      <td>4.0</td>\n",
       "      <td>Very easy to install. Worked right away but it...</td>\n",
       "      <td>0</td>\n",
       "      <td>tplink ac750 wifi extender re220 covers up to ...</td>\n",
       "    </tr>\n",
       "  </tbody>\n",
       "</table>\n",
       "</div>"
      ],
      "text/plain": [
       "         reviewId                                        reviewDate  \\\n",
       "0   RXDM4W1ZL7L4L    Reviewed in the United States on June 22, 2021   \n",
       "1  R2GINAKQJOSWEL  Reviewed in the United States on August 27, 2021   \n",
       "2   RD5R7T2JNP104     Reviewed in the United States on May 21, 2021   \n",
       "\n",
       "        mainDepartment        subDepartment  \\\n",
       "0  Sports and Outdoors   Outdoor Recreation   \n",
       "1            Computers       Men's Clothing   \n",
       "2            Computers  Networking Products   \n",
       "\n",
       "                                         productName  \\\n",
       "0  Doctor Developed Copper Wrist Brace / Carpal T...   \n",
       "1      Fruit of the Loom Men's Coolzone Boxer Briefs   \n",
       "2  TP-Link AC750 WiFi Extender (RE220), Covers Up...   \n",
       "\n",
       "                        reviewTitle  reviewStar  \\\n",
       "0        One size does not fit all.         3.0   \n",
       "1         They were ok but thats it         4.0   \n",
       "2  Good if you need a little extra.         4.0   \n",
       "\n",
       "                                          reviewText  inconsistentStatus  \\\n",
       "0  Nice lightweight brace but unfortunately was t...                   1   \n",
       "1  Boxers were ok. The color did start to fade pr...                   0   \n",
       "2  Very easy to install. Worked right away but it...                   0   \n",
       "\n",
       "                                        texto_limpio  \n",
       "0  doctor developed copper wrist brace carpal tun...  \n",
       "1       fruit of the loom mens coolzone boxer briefs  \n",
       "2  tplink ac750 wifi extender re220 covers up to ...  "
      ]
     },
     "execution_count": 371,
     "metadata": {},
     "output_type": "execute_result"
    }
   ],
   "source": [
    "# Cargar el modelo de SpaCy fuera de la función para mejorar el rendimiento\n",
    "def limpiar_texto(texto):\n",
    "\n",
    "    texto = contractions.fix(texto)\n",
    "    # Convierte a minúsculas\n",
    "    texto = texto.lower()\n",
    "    # Elimina signos de puntuación\n",
    "    texto = re.sub(r'[.,;]', '', texto)\n",
    "    # Elimina números\n",
    "    # texto = re.sub(r'\\d+', '', texto)\n",
    "    # Elimina caracteres especiales\n",
    "    texto = re.sub(r'[^\\w\\s]', '', texto)\n",
    "    # Elimina espacios dobles y saltos de línea\n",
    "    texto = re.sub(r'\\s+', ' ', texto)\n",
    "    # Quita espacios al inicio y al final\n",
    "    texto = texto.strip()\n",
    "    # doc = nlp(texto)\n",
    "    return texto\n",
    "\n",
    "df['texto_limpio'] = df['productName'].apply(lambda x: limpiar_texto(x))\n",
    "\n",
    "# Mostrar las primeras filas\n",
    "df.head(3)"
   ]
  },
  {
   "cell_type": "code",
   "execution_count": 372,
   "metadata": {},
   "outputs": [
    {
     "data": {
      "text/plain": [
       "\"Fruit of the Loom Men's Coolzone Boxer Briefs\""
      ]
     },
     "execution_count": 372,
     "metadata": {},
     "output_type": "execute_result"
    }
   ],
   "source": [
    "df['productName'].iloc[1]"
   ]
  },
  {
   "cell_type": "markdown",
   "metadata": {},
   "source": [
    "## Sistema de recomendación"
   ]
  },
  {
   "cell_type": "code",
   "execution_count": 373,
   "metadata": {},
   "outputs": [],
   "source": [
    "df['columna_combi'] = df['texto_limpio'] + ' ' + df['subDepartment']"
   ]
  },
  {
   "cell_type": "code",
   "execution_count": 374,
   "metadata": {},
   "outputs": [
    {
     "data": {
      "text/html": [
       "<style>#sk-container-id-12 {\n",
       "  /* Definition of color scheme common for light and dark mode */\n",
       "  --sklearn-color-text: black;\n",
       "  --sklearn-color-line: gray;\n",
       "  /* Definition of color scheme for unfitted estimators */\n",
       "  --sklearn-color-unfitted-level-0: #fff5e6;\n",
       "  --sklearn-color-unfitted-level-1: #f6e4d2;\n",
       "  --sklearn-color-unfitted-level-2: #ffe0b3;\n",
       "  --sklearn-color-unfitted-level-3: chocolate;\n",
       "  /* Definition of color scheme for fitted estimators */\n",
       "  --sklearn-color-fitted-level-0: #f0f8ff;\n",
       "  --sklearn-color-fitted-level-1: #d4ebff;\n",
       "  --sklearn-color-fitted-level-2: #b3dbfd;\n",
       "  --sklearn-color-fitted-level-3: cornflowerblue;\n",
       "\n",
       "  /* Specific color for light theme */\n",
       "  --sklearn-color-text-on-default-background: var(--sg-text-color, var(--theme-code-foreground, var(--jp-content-font-color1, black)));\n",
       "  --sklearn-color-background: var(--sg-background-color, var(--theme-background, var(--jp-layout-color0, white)));\n",
       "  --sklearn-color-border-box: var(--sg-text-color, var(--theme-code-foreground, var(--jp-content-font-color1, black)));\n",
       "  --sklearn-color-icon: #696969;\n",
       "\n",
       "  @media (prefers-color-scheme: dark) {\n",
       "    /* Redefinition of color scheme for dark theme */\n",
       "    --sklearn-color-text-on-default-background: var(--sg-text-color, var(--theme-code-foreground, var(--jp-content-font-color1, white)));\n",
       "    --sklearn-color-background: var(--sg-background-color, var(--theme-background, var(--jp-layout-color0, #111)));\n",
       "    --sklearn-color-border-box: var(--sg-text-color, var(--theme-code-foreground, var(--jp-content-font-color1, white)));\n",
       "    --sklearn-color-icon: #878787;\n",
       "  }\n",
       "}\n",
       "\n",
       "#sk-container-id-12 {\n",
       "  color: var(--sklearn-color-text);\n",
       "}\n",
       "\n",
       "#sk-container-id-12 pre {\n",
       "  padding: 0;\n",
       "}\n",
       "\n",
       "#sk-container-id-12 input.sk-hidden--visually {\n",
       "  border: 0;\n",
       "  clip: rect(1px 1px 1px 1px);\n",
       "  clip: rect(1px, 1px, 1px, 1px);\n",
       "  height: 1px;\n",
       "  margin: -1px;\n",
       "  overflow: hidden;\n",
       "  padding: 0;\n",
       "  position: absolute;\n",
       "  width: 1px;\n",
       "}\n",
       "\n",
       "#sk-container-id-12 div.sk-dashed-wrapped {\n",
       "  border: 1px dashed var(--sklearn-color-line);\n",
       "  margin: 0 0.4em 0.5em 0.4em;\n",
       "  box-sizing: border-box;\n",
       "  padding-bottom: 0.4em;\n",
       "  background-color: var(--sklearn-color-background);\n",
       "}\n",
       "\n",
       "#sk-container-id-12 div.sk-container {\n",
       "  /* jupyter's `normalize.less` sets `[hidden] { display: none; }`\n",
       "     but bootstrap.min.css set `[hidden] { display: none !important; }`\n",
       "     so we also need the `!important` here to be able to override the\n",
       "     default hidden behavior on the sphinx rendered scikit-learn.org.\n",
       "     See: https://github.com/scikit-learn/scikit-learn/issues/21755 */\n",
       "  display: inline-block !important;\n",
       "  position: relative;\n",
       "}\n",
       "\n",
       "#sk-container-id-12 div.sk-text-repr-fallback {\n",
       "  display: none;\n",
       "}\n",
       "\n",
       "div.sk-parallel-item,\n",
       "div.sk-serial,\n",
       "div.sk-item {\n",
       "  /* draw centered vertical line to link estimators */\n",
       "  background-image: linear-gradient(var(--sklearn-color-text-on-default-background), var(--sklearn-color-text-on-default-background));\n",
       "  background-size: 2px 100%;\n",
       "  background-repeat: no-repeat;\n",
       "  background-position: center center;\n",
       "}\n",
       "\n",
       "/* Parallel-specific style estimator block */\n",
       "\n",
       "#sk-container-id-12 div.sk-parallel-item::after {\n",
       "  content: \"\";\n",
       "  width: 100%;\n",
       "  border-bottom: 2px solid var(--sklearn-color-text-on-default-background);\n",
       "  flex-grow: 1;\n",
       "}\n",
       "\n",
       "#sk-container-id-12 div.sk-parallel {\n",
       "  display: flex;\n",
       "  align-items: stretch;\n",
       "  justify-content: center;\n",
       "  background-color: var(--sklearn-color-background);\n",
       "  position: relative;\n",
       "}\n",
       "\n",
       "#sk-container-id-12 div.sk-parallel-item {\n",
       "  display: flex;\n",
       "  flex-direction: column;\n",
       "}\n",
       "\n",
       "#sk-container-id-12 div.sk-parallel-item:first-child::after {\n",
       "  align-self: flex-end;\n",
       "  width: 50%;\n",
       "}\n",
       "\n",
       "#sk-container-id-12 div.sk-parallel-item:last-child::after {\n",
       "  align-self: flex-start;\n",
       "  width: 50%;\n",
       "}\n",
       "\n",
       "#sk-container-id-12 div.sk-parallel-item:only-child::after {\n",
       "  width: 0;\n",
       "}\n",
       "\n",
       "/* Serial-specific style estimator block */\n",
       "\n",
       "#sk-container-id-12 div.sk-serial {\n",
       "  display: flex;\n",
       "  flex-direction: column;\n",
       "  align-items: center;\n",
       "  background-color: var(--sklearn-color-background);\n",
       "  padding-right: 1em;\n",
       "  padding-left: 1em;\n",
       "}\n",
       "\n",
       "\n",
       "/* Toggleable style: style used for estimator/Pipeline/ColumnTransformer box that is\n",
       "clickable and can be expanded/collapsed.\n",
       "- Pipeline and ColumnTransformer use this feature and define the default style\n",
       "- Estimators will overwrite some part of the style using the `sk-estimator` class\n",
       "*/\n",
       "\n",
       "/* Pipeline and ColumnTransformer style (default) */\n",
       "\n",
       "#sk-container-id-12 div.sk-toggleable {\n",
       "  /* Default theme specific background. It is overwritten whether we have a\n",
       "  specific estimator or a Pipeline/ColumnTransformer */\n",
       "  background-color: var(--sklearn-color-background);\n",
       "}\n",
       "\n",
       "/* Toggleable label */\n",
       "#sk-container-id-12 label.sk-toggleable__label {\n",
       "  cursor: pointer;\n",
       "  display: block;\n",
       "  width: 100%;\n",
       "  margin-bottom: 0;\n",
       "  padding: 0.5em;\n",
       "  box-sizing: border-box;\n",
       "  text-align: center;\n",
       "}\n",
       "\n",
       "#sk-container-id-12 label.sk-toggleable__label-arrow:before {\n",
       "  /* Arrow on the left of the label */\n",
       "  content: \"▸\";\n",
       "  float: left;\n",
       "  margin-right: 0.25em;\n",
       "  color: var(--sklearn-color-icon);\n",
       "}\n",
       "\n",
       "#sk-container-id-12 label.sk-toggleable__label-arrow:hover:before {\n",
       "  color: var(--sklearn-color-text);\n",
       "}\n",
       "\n",
       "/* Toggleable content - dropdown */\n",
       "\n",
       "#sk-container-id-12 div.sk-toggleable__content {\n",
       "  max-height: 0;\n",
       "  max-width: 0;\n",
       "  overflow: hidden;\n",
       "  text-align: left;\n",
       "  /* unfitted */\n",
       "  background-color: var(--sklearn-color-unfitted-level-0);\n",
       "}\n",
       "\n",
       "#sk-container-id-12 div.sk-toggleable__content.fitted {\n",
       "  /* fitted */\n",
       "  background-color: var(--sklearn-color-fitted-level-0);\n",
       "}\n",
       "\n",
       "#sk-container-id-12 div.sk-toggleable__content pre {\n",
       "  margin: 0.2em;\n",
       "  border-radius: 0.25em;\n",
       "  color: var(--sklearn-color-text);\n",
       "  /* unfitted */\n",
       "  background-color: var(--sklearn-color-unfitted-level-0);\n",
       "}\n",
       "\n",
       "#sk-container-id-12 div.sk-toggleable__content.fitted pre {\n",
       "  /* unfitted */\n",
       "  background-color: var(--sklearn-color-fitted-level-0);\n",
       "}\n",
       "\n",
       "#sk-container-id-12 input.sk-toggleable__control:checked~div.sk-toggleable__content {\n",
       "  /* Expand drop-down */\n",
       "  max-height: 200px;\n",
       "  max-width: 100%;\n",
       "  overflow: auto;\n",
       "}\n",
       "\n",
       "#sk-container-id-12 input.sk-toggleable__control:checked~label.sk-toggleable__label-arrow:before {\n",
       "  content: \"▾\";\n",
       "}\n",
       "\n",
       "/* Pipeline/ColumnTransformer-specific style */\n",
       "\n",
       "#sk-container-id-12 div.sk-label input.sk-toggleable__control:checked~label.sk-toggleable__label {\n",
       "  color: var(--sklearn-color-text);\n",
       "  background-color: var(--sklearn-color-unfitted-level-2);\n",
       "}\n",
       "\n",
       "#sk-container-id-12 div.sk-label.fitted input.sk-toggleable__control:checked~label.sk-toggleable__label {\n",
       "  background-color: var(--sklearn-color-fitted-level-2);\n",
       "}\n",
       "\n",
       "/* Estimator-specific style */\n",
       "\n",
       "/* Colorize estimator box */\n",
       "#sk-container-id-12 div.sk-estimator input.sk-toggleable__control:checked~label.sk-toggleable__label {\n",
       "  /* unfitted */\n",
       "  background-color: var(--sklearn-color-unfitted-level-2);\n",
       "}\n",
       "\n",
       "#sk-container-id-12 div.sk-estimator.fitted input.sk-toggleable__control:checked~label.sk-toggleable__label {\n",
       "  /* fitted */\n",
       "  background-color: var(--sklearn-color-fitted-level-2);\n",
       "}\n",
       "\n",
       "#sk-container-id-12 div.sk-label label.sk-toggleable__label,\n",
       "#sk-container-id-12 div.sk-label label {\n",
       "  /* The background is the default theme color */\n",
       "  color: var(--sklearn-color-text-on-default-background);\n",
       "}\n",
       "\n",
       "/* On hover, darken the color of the background */\n",
       "#sk-container-id-12 div.sk-label:hover label.sk-toggleable__label {\n",
       "  color: var(--sklearn-color-text);\n",
       "  background-color: var(--sklearn-color-unfitted-level-2);\n",
       "}\n",
       "\n",
       "/* Label box, darken color on hover, fitted */\n",
       "#sk-container-id-12 div.sk-label.fitted:hover label.sk-toggleable__label.fitted {\n",
       "  color: var(--sklearn-color-text);\n",
       "  background-color: var(--sklearn-color-fitted-level-2);\n",
       "}\n",
       "\n",
       "/* Estimator label */\n",
       "\n",
       "#sk-container-id-12 div.sk-label label {\n",
       "  font-family: monospace;\n",
       "  font-weight: bold;\n",
       "  display: inline-block;\n",
       "  line-height: 1.2em;\n",
       "}\n",
       "\n",
       "#sk-container-id-12 div.sk-label-container {\n",
       "  text-align: center;\n",
       "}\n",
       "\n",
       "/* Estimator-specific */\n",
       "#sk-container-id-12 div.sk-estimator {\n",
       "  font-family: monospace;\n",
       "  border: 1px dotted var(--sklearn-color-border-box);\n",
       "  border-radius: 0.25em;\n",
       "  box-sizing: border-box;\n",
       "  margin-bottom: 0.5em;\n",
       "  /* unfitted */\n",
       "  background-color: var(--sklearn-color-unfitted-level-0);\n",
       "}\n",
       "\n",
       "#sk-container-id-12 div.sk-estimator.fitted {\n",
       "  /* fitted */\n",
       "  background-color: var(--sklearn-color-fitted-level-0);\n",
       "}\n",
       "\n",
       "/* on hover */\n",
       "#sk-container-id-12 div.sk-estimator:hover {\n",
       "  /* unfitted */\n",
       "  background-color: var(--sklearn-color-unfitted-level-2);\n",
       "}\n",
       "\n",
       "#sk-container-id-12 div.sk-estimator.fitted:hover {\n",
       "  /* fitted */\n",
       "  background-color: var(--sklearn-color-fitted-level-2);\n",
       "}\n",
       "\n",
       "/* Specification for estimator info (e.g. \"i\" and \"?\") */\n",
       "\n",
       "/* Common style for \"i\" and \"?\" */\n",
       "\n",
       ".sk-estimator-doc-link,\n",
       "a:link.sk-estimator-doc-link,\n",
       "a:visited.sk-estimator-doc-link {\n",
       "  float: right;\n",
       "  font-size: smaller;\n",
       "  line-height: 1em;\n",
       "  font-family: monospace;\n",
       "  background-color: var(--sklearn-color-background);\n",
       "  border-radius: 1em;\n",
       "  height: 1em;\n",
       "  width: 1em;\n",
       "  text-decoration: none !important;\n",
       "  margin-left: 1ex;\n",
       "  /* unfitted */\n",
       "  border: var(--sklearn-color-unfitted-level-1) 1pt solid;\n",
       "  color: var(--sklearn-color-unfitted-level-1);\n",
       "}\n",
       "\n",
       ".sk-estimator-doc-link.fitted,\n",
       "a:link.sk-estimator-doc-link.fitted,\n",
       "a:visited.sk-estimator-doc-link.fitted {\n",
       "  /* fitted */\n",
       "  border: var(--sklearn-color-fitted-level-1) 1pt solid;\n",
       "  color: var(--sklearn-color-fitted-level-1);\n",
       "}\n",
       "\n",
       "/* On hover */\n",
       "div.sk-estimator:hover .sk-estimator-doc-link:hover,\n",
       ".sk-estimator-doc-link:hover,\n",
       "div.sk-label-container:hover .sk-estimator-doc-link:hover,\n",
       ".sk-estimator-doc-link:hover {\n",
       "  /* unfitted */\n",
       "  background-color: var(--sklearn-color-unfitted-level-3);\n",
       "  color: var(--sklearn-color-background);\n",
       "  text-decoration: none;\n",
       "}\n",
       "\n",
       "div.sk-estimator.fitted:hover .sk-estimator-doc-link.fitted:hover,\n",
       ".sk-estimator-doc-link.fitted:hover,\n",
       "div.sk-label-container:hover .sk-estimator-doc-link.fitted:hover,\n",
       ".sk-estimator-doc-link.fitted:hover {\n",
       "  /* fitted */\n",
       "  background-color: var(--sklearn-color-fitted-level-3);\n",
       "  color: var(--sklearn-color-background);\n",
       "  text-decoration: none;\n",
       "}\n",
       "\n",
       "/* Span, style for the box shown on hovering the info icon */\n",
       ".sk-estimator-doc-link span {\n",
       "  display: none;\n",
       "  z-index: 9999;\n",
       "  position: relative;\n",
       "  font-weight: normal;\n",
       "  right: .2ex;\n",
       "  padding: .5ex;\n",
       "  margin: .5ex;\n",
       "  width: min-content;\n",
       "  min-width: 20ex;\n",
       "  max-width: 50ex;\n",
       "  color: var(--sklearn-color-text);\n",
       "  box-shadow: 2pt 2pt 4pt #999;\n",
       "  /* unfitted */\n",
       "  background: var(--sklearn-color-unfitted-level-0);\n",
       "  border: .5pt solid var(--sklearn-color-unfitted-level-3);\n",
       "}\n",
       "\n",
       ".sk-estimator-doc-link.fitted span {\n",
       "  /* fitted */\n",
       "  background: var(--sklearn-color-fitted-level-0);\n",
       "  border: var(--sklearn-color-fitted-level-3);\n",
       "}\n",
       "\n",
       ".sk-estimator-doc-link:hover span {\n",
       "  display: block;\n",
       "}\n",
       "\n",
       "/* \"?\"-specific style due to the `<a>` HTML tag */\n",
       "\n",
       "#sk-container-id-12 a.estimator_doc_link {\n",
       "  float: right;\n",
       "  font-size: 1rem;\n",
       "  line-height: 1em;\n",
       "  font-family: monospace;\n",
       "  background-color: var(--sklearn-color-background);\n",
       "  border-radius: 1rem;\n",
       "  height: 1rem;\n",
       "  width: 1rem;\n",
       "  text-decoration: none;\n",
       "  /* unfitted */\n",
       "  color: var(--sklearn-color-unfitted-level-1);\n",
       "  border: var(--sklearn-color-unfitted-level-1) 1pt solid;\n",
       "}\n",
       "\n",
       "#sk-container-id-12 a.estimator_doc_link.fitted {\n",
       "  /* fitted */\n",
       "  border: var(--sklearn-color-fitted-level-1) 1pt solid;\n",
       "  color: var(--sklearn-color-fitted-level-1);\n",
       "}\n",
       "\n",
       "/* On hover */\n",
       "#sk-container-id-12 a.estimator_doc_link:hover {\n",
       "  /* unfitted */\n",
       "  background-color: var(--sklearn-color-unfitted-level-3);\n",
       "  color: var(--sklearn-color-background);\n",
       "  text-decoration: none;\n",
       "}\n",
       "\n",
       "#sk-container-id-12 a.estimator_doc_link.fitted:hover {\n",
       "  /* fitted */\n",
       "  background-color: var(--sklearn-color-fitted-level-3);\n",
       "}\n",
       "</style><div id=\"sk-container-id-12\" class=\"sk-top-container\"><div class=\"sk-text-repr-fallback\"><pre>CountVectorizer(max_features=250, stop_words=&#x27;english&#x27;)</pre><b>In a Jupyter environment, please rerun this cell to show the HTML representation or trust the notebook. <br />On GitHub, the HTML representation is unable to render, please try loading this page with nbviewer.org.</b></div><div class=\"sk-container\" hidden><div class=\"sk-item\"><div class=\"sk-estimator  sk-toggleable\"><input class=\"sk-toggleable__control sk-hidden--visually\" id=\"sk-estimator-id-12\" type=\"checkbox\" checked><label for=\"sk-estimator-id-12\" class=\"sk-toggleable__label  sk-toggleable__label-arrow \">&nbsp;&nbsp;CountVectorizer<a class=\"sk-estimator-doc-link \" rel=\"noreferrer\" target=\"_blank\" href=\"https://scikit-learn.org/1.5/modules/generated/sklearn.feature_extraction.text.CountVectorizer.html\">?<span>Documentation for CountVectorizer</span></a><span class=\"sk-estimator-doc-link \">i<span>Not fitted</span></span></label><div class=\"sk-toggleable__content \"><pre>CountVectorizer(max_features=250, stop_words=&#x27;english&#x27;)</pre></div> </div></div></div></div>"
      ],
      "text/plain": [
       "CountVectorizer(max_features=250, stop_words='english')"
      ]
     },
     "execution_count": 374,
     "metadata": {},
     "output_type": "execute_result"
    }
   ],
   "source": [
    "vectorize = CountVectorizer(max_features=250, stop_words='english')\n",
    "vectorize"
   ]
  },
  {
   "cell_type": "code",
   "execution_count": 387,
   "metadata": {},
   "outputs": [
    {
     "data": {
      "text/plain": [
       "'doctor developed copper wrist brace carpal tunnel wrist brace wrist support wrist splint hand brace fda class i medical device doctor handbook night support for women men right left hands single Outdoor Recreation'"
      ]
     },
     "execution_count": 387,
     "metadata": {},
     "output_type": "execute_result"
    }
   ],
   "source": [
    "df['columna_combi'].iloc[0]"
   ]
  },
  {
   "cell_type": "code",
   "execution_count": 375,
   "metadata": {},
   "outputs": [
    {
     "data": {
      "text/plain": [
       "array([[0, 0, 0, ..., 0, 4, 0],\n",
       "       [0, 0, 0, ..., 0, 0, 0],\n",
       "       [0, 0, 0, ..., 0, 0, 0],\n",
       "       ...,\n",
       "       [0, 0, 0, ..., 0, 0, 0],\n",
       "       [0, 0, 0, ..., 0, 0, 0],\n",
       "       [0, 0, 0, ..., 0, 0, 0]])"
      ]
     },
     "execution_count": 375,
     "metadata": {},
     "output_type": "execute_result"
    }
   ],
   "source": [
    "x = vectorize.fit_transform(df['columna_combi']).toarray() #tomo para mi modelo a mi columna genres\n",
    "x"
   ]
  },
  {
   "cell_type": "code",
   "execution_count": 376,
   "metadata": {},
   "outputs": [
    {
     "data": {
      "text/plain": [
       "array([[1.        , 0.09128709, 0.        , ..., 0.        , 0.09128709,\n",
       "        0.        ],\n",
       "       [0.09128709, 1.        , 0.        , ..., 0.        , 1.        ,\n",
       "        0.        ],\n",
       "       [0.        , 0.        , 1.        , ..., 0.        , 0.        ,\n",
       "        0.        ],\n",
       "       ...,\n",
       "       [0.        , 0.        , 0.        , ..., 1.        , 0.        ,\n",
       "        0.        ],\n",
       "       [0.09128709, 1.        , 0.        , ..., 0.        , 1.        ,\n",
       "        0.        ],\n",
       "       [0.        , 0.        , 0.        , ..., 0.        , 0.        ,\n",
       "        1.        ]])"
      ]
     },
     "execution_count": 376,
     "metadata": {},
     "output_type": "execute_result"
    }
   ],
   "source": [
    "similarity = cosine_similarity(x)\n",
    "similarity"
   ]
  },
  {
   "cell_type": "code",
   "execution_count": 377,
   "metadata": {},
   "outputs": [],
   "source": [
    "def get_index_from_name(name):\n",
    "    return df[df.productName == name].index[0]\n",
    "\n",
    "def get_name_from_index(index):\n",
    "    return df[df.index == index]['productName'].values[0]"
   ]
  },
  {
   "cell_type": "code",
   "execution_count": 378,
   "metadata": {},
   "outputs": [],
   "source": [
    "user_like_product = \"Fruit of the Loom Men's Coolzone Boxer Briefs\" #hago la prueba con este juego"
   ]
  },
  {
   "cell_type": "code",
   "execution_count": 379,
   "metadata": {},
   "outputs": [
    {
     "data": {
      "text/plain": [
       "np.int64(1)"
      ]
     },
     "execution_count": 379,
     "metadata": {},
     "output_type": "execute_result"
    }
   ],
   "source": [
    "game_index = get_index_from_name(user_like_product) #busco el indice de mi pelicula\n",
    "game_index"
   ]
  },
  {
   "cell_type": "code",
   "execution_count": 380,
   "metadata": {},
   "outputs": [
    {
     "data": {
      "text/plain": [
       "array([0.09128709, 1.        , 0.        , ..., 0.        , 1.        ,\n",
       "       0.        ])"
      ]
     },
     "execution_count": 380,
     "metadata": {},
     "output_type": "execute_result"
    }
   ],
   "source": [
    "similarity[game_index] #busco la similitud de mi juego elegido con los demás"
   ]
  },
  {
   "cell_type": "code",
   "execution_count": 381,
   "metadata": {},
   "outputs": [],
   "source": [
    "similar_games=list(enumerate(similarity[game_index]))"
   ]
  },
  {
   "cell_type": "code",
   "execution_count": 382,
   "metadata": {},
   "outputs": [
    {
     "data": {
      "text/plain": [
       "[(0, np.float64(0.0912870929175277)),\n",
       " (1, np.float64(1.0000000000000002)),\n",
       " (2, np.float64(0.0)),\n",
       " (3, np.float64(0.0)),\n",
       " (4, np.float64(0.0)),\n",
       " (5, np.float64(0.0)),\n",
       " (6, np.float64(0.0912870929175277)),\n",
       " (7, np.float64(0.0)),\n",
       " (8, np.float64(0.2041241452319315)),\n",
       " (9, np.float64(0.0))]"
      ]
     },
     "execution_count": 382,
     "metadata": {},
     "output_type": "execute_result"
    }
   ],
   "source": [
    "similar_games[:10]"
   ]
  },
  {
   "cell_type": "code",
   "execution_count": 383,
   "metadata": {},
   "outputs": [
    {
     "data": {
      "text/plain": [
       "{\"Fruit of the Loom Men's Coolzone Boxer Briefs\": np.float64(1.0000000000000002)}"
      ]
     },
     "execution_count": 383,
     "metadata": {},
     "output_type": "execute_result"
    }
   ],
   "source": [
    "sorted_games =sorted(similar_games, key=lambda x: x[1], reverse=True) #Lo ordenamos para que nos de las pelis que más se parecen a nuestra peli\n",
    "top_game ={}\n",
    "for i in sorted_games[1:11]: # le digo que me devuelva las primera 20 pelis sin contar ella misma\n",
    "    top_game[get_name_from_index(i[0])]=i[1]\n",
    "top_game"
   ]
  },
  {
   "cell_type": "code",
   "execution_count": 384,
   "metadata": {},
   "outputs": [
    {
     "name": "stderr",
     "output_type": "stream",
     "text": [
      "C:\\Users\\DELL\\AppData\\Local\\Temp\\ipykernel_8332\\1105178153.py:4: FutureWarning: \n",
      "\n",
      "Passing `palette` without assigning `hue` is deprecated and will be removed in v0.14.0. Assign the `y` variable to `hue` and set `legend=False` for the same effect.\n",
      "\n",
      "  sns.barplot(\n"
     ]
    },
    {
     "data": {
      "image/png": "[encoded data removed]",
      "text/plain": [
       "<Figure size 1000x600 with 1 Axes>"
      ]
     },
     "metadata": {},
     "output_type": "display_data"
    }
   ],
   "source": [
    "plt.figure(figsize=(10, 6))\n",
    "sns.set_style(\"whitegrid\")\n",
    "\n",
    "sns.barplot(\n",
    "    x=list(top_game.values()), \n",
    "    y=list(top_game.keys()), \n",
    "    palette=\"mako\"\n",
    ")\n",
    "\n",
    "plt.title(\"Top Games similares basado en Género y descripción\", fontsize=16, pad=20)\n",
    "plt.xlabel(\"Similitud\", fontsize=12)\n",
    "plt.ylabel(\"Games\", fontsize=12)\n",
    "\n",
    "# Añadir valores al final de cada barra\n",
    "for i, value in enumerate(top_game.values()):\n",
    "    plt.text(value + 0.02, i, f\"{value:.2f}\", va='center', fontsize=10)\n",
    "\n",
    "plt.tight_layout()"
   ]
  },
  {
   "cell_type": "code",
   "execution_count": null,
   "metadata": {},
   "outputs": [],
   "source": []
  }
 ],
 "metadata": {
  "kernelspec": {
   "display_name": "Python 3",
   "language": "python",
   "name": "python3"
  },
  "language_info": {
   "codemirror_mode": {
    "name": "ipython",
    "version": 3
   },
   "file_extension": ".py",
   "mimetype": "text/x-python",
   "name": "python",
   "nbconvert_exporter": "python",
   "pygments_lexer": "ipython3",
   "version": "3.11.9"
  }
 },
 "nbformat": 4,
 "nbformat_minor": 2
}
